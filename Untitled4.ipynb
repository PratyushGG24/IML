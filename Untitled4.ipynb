{
 "cells": [
  {
   "cell_type": "code",
   "execution_count": 1,
   "id": "dedec2b7",
   "metadata": {},
   "outputs": [],
   "source": [
    "import csv"
   ]
  },
  {
   "cell_type": "code",
   "execution_count": 2,
   "id": "b3438cf9",
   "metadata": {},
   "outputs": [],
   "source": [
    "def read_data(filename):\n",
    "    with open(filename, 'r') as csvfile:\n",
    "        datareader = csv.reader(csvfile, delimiter=',')\n",
    "        traindata = []\n",
    "        for row in datareader:\n",
    "            traindata.append(row)\n",
    "        print(traindata)\n",
    "    return (traindata)"
   ]
  },
  {
   "cell_type": "code",
   "execution_count": 3,
   "id": "6f19a20e",
   "metadata": {},
   "outputs": [
    {
     "name": "stdout",
     "output_type": "stream",
     "text": [
      "Attributes = ['Sky', 'Temp', 'Humidity', 'Wind', 'Water', 'Forecast']\n"
     ]
    }
   ],
   "source": [
    "attributes = ['Sky','Temp','Humidity','Wind','Water','Forecast']\n",
    "print('Attributes =',attributes)\n",
    "num_attributes = len(attributes)"
   ]
  },
  {
   "cell_type": "code",
   "execution_count": 4,
   "id": "c398f3e1",
   "metadata": {},
   "outputs": [
    {
     "name": "stdout",
     "output_type": "stream",
     "text": [
      "[['sunny', 'warm', 'normal', 'strong', 'warm', 'same', 'yes'], ['sunny ', 'warm', 'high', 'strong', 'warm', 'same', 'yes '], ['rainy', 'cold', 'high', 'strong', 'warm', 'change', 'no'], ['sunny', 'warm', 'high', 'strong', 'cool', 'change', 'yes']]\n"
     ]
    }
   ],
   "source": [
    "dataset=read_data('enjoysport.csv')"
   ]
  },
  {
   "cell_type": "code",
   "execution_count": 5,
   "id": "b545da3c",
   "metadata": {},
   "outputs": [
    {
     "data": {
      "text/plain": [
       "[['sunny', 'warm', 'normal', 'strong', 'warm', 'same', 'yes'],\n",
       " ['sunny ', 'warm', 'high', 'strong', 'warm', 'same', 'yes '],\n",
       " ['rainy', 'cold', 'high', 'strong', 'warm', 'change', 'no'],\n",
       " ['sunny', 'warm', 'high', 'strong', 'cool', 'change', 'yes']]"
      ]
     },
     "execution_count": 5,
     "metadata": {},
     "output_type": "execute_result"
    }
   ],
   "source": [
    "dataset"
   ]
  },
  {
   "cell_type": "code",
   "execution_count": 6,
   "id": "36ae4fe3",
   "metadata": {},
   "outputs": [
    {
     "data": {
      "text/plain": [
       "4"
      ]
     },
     "execution_count": 6,
     "metadata": {},
     "output_type": "execute_result"
    }
   ],
   "source": [
    "len(dataset)"
   ]
  },
  {
   "cell_type": "code",
   "execution_count": 7,
   "id": "d5f9d5c2",
   "metadata": {},
   "outputs": [
    {
     "name": "stdout",
     "output_type": "stream",
     "text": [
      "Intial Hypothesis\n",
      "['0', '0', '0', '0', '0', '0']\n"
     ]
    }
   ],
   "source": [
    "hypothesis=['0'] * num_attributes\n",
    "print(\"Intial Hypothesis\")\n",
    "print(hypothesis)"
   ]
  },
  {
   "cell_type": "code",
   "execution_count": 10,
   "id": "c0395a2c",
   "metadata": {},
   "outputs": [],
   "source": [
    "for j in range(0,num_attributes):\n",
    "    hypothesis[j] = dataset[0][j];"
   ]
  },
  {
   "cell_type": "code",
   "execution_count": 11,
   "id": "56b7dc45",
   "metadata": {},
   "outputs": [
    {
     "data": {
      "text/plain": [
       "['sunny', 'warm', 'normal', 'strong', 'warm', 'same']"
      ]
     },
     "execution_count": 11,
     "metadata": {},
     "output_type": "execute_result"
    }
   ],
   "source": [
    "hypothesis"
   ]
  },
  {
   "cell_type": "code",
   "execution_count": 12,
   "id": "d86cc85d",
   "metadata": {},
   "outputs": [
    {
     "name": "stdout",
     "output_type": "stream",
     "text": [
      "\n",
      " Find S: Finding a Maximally Specific Hypothesis\n",
      "\n"
     ]
    }
   ],
   "source": [
    "print(\"\\n Find S: Finding a Maximally Specific Hypothesis\\n\")\n",
    "for i in range(0,len(dataset)):\n",
    "    if dataset[i][num_attributes]=='Yes':\n",
    "        for j in range(0,num_attributes):\n",
    "            if dataset[i][j]!=hypothesis[j]:\n",
    "                hypothesis[j]='?'"
   ]
  },
  {
   "cell_type": "code",
   "execution_count": 13,
   "id": "33e3f371",
   "metadata": {},
   "outputs": [
    {
     "name": "stdout",
     "output_type": "stream",
     "text": [
      "For training example No 4 hypothesis is ['sunny', 'warm', 'normal', 'strong', 'warm', 'same']\n",
      "\n",
      " The Maximally Specific Hypothesis for a given Training Examples :\n",
      "\n",
      "['sunny', 'warm', 'normal', 'strong', 'warm', 'same']\n"
     ]
    }
   ],
   "source": [
    "print(\"For training example No\",(i+1),\"hypothesis is\", hypothesis)\n",
    "print(\"\\n The Maximally Specific Hypothesis for a given Training Examples :\\n\")\n",
    "print(hypothesis)"
   ]
  },
  {
   "cell_type": "code",
   "execution_count": null,
   "id": "08ff64eb",
   "metadata": {},
   "outputs": [],
   "source": []
  }
 ],
 "metadata": {
  "kernelspec": {
   "display_name": "Python 3 (ipykernel)",
   "language": "python",
   "name": "python3"
  },
  "language_info": {
   "codemirror_mode": {
    "name": "ipython",
    "version": 3
   },
   "file_extension": ".py",
   "mimetype": "text/x-python",
   "name": "python",
   "nbconvert_exporter": "python",
   "pygments_lexer": "ipython3",
   "version": "3.11.3"
  }
 },
 "nbformat": 4,
 "nbformat_minor": 5
}
